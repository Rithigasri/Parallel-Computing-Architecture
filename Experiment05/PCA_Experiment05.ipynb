{
  "nbformat": 4,
  "nbformat_minor": 0,
  "metadata": {
    "colab": {
      "provenance": [],
      "gpuType": "T4"
    },
    "kernelspec": {
      "name": "python3",
      "display_name": "Python 3"
    },
    "language_info": {
      "name": "python"
    },
    "accelerator": "GPU"
  },
  "cells": [
    {
      "cell_type": "code",
      "execution_count": 1,
      "metadata": {
        "colab": {
          "base_uri": "https://localhost:8080/"
        },
        "id": "1a_YEw8FGqCI",
        "outputId": "a44295b1-77e5-40e3-9d48-09e6c44b8a44"
      },
      "outputs": [
        {
          "output_type": "stream",
          "name": "stdout",
          "text": [
            "Collecting git+https://github.com/andreinechaev/nvcc4jupyter.git\n",
            "  Cloning https://github.com/andreinechaev/nvcc4jupyter.git to /tmp/pip-req-build-375xm714\n",
            "  Running command git clone --filter=blob:none --quiet https://github.com/andreinechaev/nvcc4jupyter.git /tmp/pip-req-build-375xm714\n",
            "  Resolved https://github.com/andreinechaev/nvcc4jupyter.git to commit 0a71d56e5dce3ff1f0dd2c47c29367629262f527\n",
            "  Preparing metadata (setup.py) ... \u001b[?25l\u001b[?25hdone\n",
            "Building wheels for collected packages: NVCCPlugin\n",
            "  Building wheel for NVCCPlugin (setup.py) ... \u001b[?25l\u001b[?25hdone\n",
            "  Created wheel for NVCCPlugin: filename=NVCCPlugin-0.0.2-py3-none-any.whl size=4294 sha256=d0612f0b2d46999c4d45f23894b87d8ea5b36fbdd8249848ec704be4d52ab2f8\n",
            "  Stored in directory: /tmp/pip-ephem-wheel-cache-vdaylahu/wheels/a8/b9/18/23f8ef71ceb0f63297dd1903aedd067e6243a68ea756d6feea\n",
            "Successfully built NVCCPlugin\n",
            "Installing collected packages: NVCCPlugin\n",
            "Successfully installed NVCCPlugin-0.0.2\n",
            "created output directory at /content/src\n",
            "Out bin /content/result.out\n"
          ]
        }
      ],
      "source": [
        "!pip install git+https://github.com/andreinechaev/nvcc4jupyter.git\n",
        "%load_ext nvcc_plugin"
      ]
    },
    {
      "cell_type": "code",
      "source": [
        "%%cu\n",
        "#include <stdio.h>\n",
        "#include <assert.h>\n",
        "#include <cuda_runtime.h>\n",
        "#include <stdio.h>\n",
        "#include <cuda.h>\n",
        "#include <sys/time.h>\n",
        "\n",
        "#define SIZE 4\n",
        "#define BLOCK_SIZE 2\n",
        "\n",
        "// Kernel function to perform matrix multiplication\n",
        "__global__ void matrixMultiply(int *a, int *b, int *c, int size)\n",
        "{\n",
        "    int row = blockIdx.y * blockDim.y + threadIdx.y;\n",
        "    int col = blockIdx.x * blockDim.x + threadIdx.x;\n",
        "\n",
        "    int sum = 0;\n",
        "    for (int k = 0; k < size; ++k)\n",
        "    {\n",
        "        sum += a[row * size + k] * b[k * size + col];\n",
        "    }\n",
        "\n",
        "    c[row * size + col] = sum;\n",
        "}\n",
        "\n",
        "int main()\n",
        "{\n",
        "    int a[SIZE][SIZE], b[SIZE][SIZE], c[SIZE][SIZE];\n",
        "    int *dev_a, *dev_b, *dev_c;\n",
        "    int size = SIZE * SIZE * sizeof(int);\n",
        "\n",
        "    // Initialize matrices 'a' and 'b'\n",
        "    for (int i = 0; i < SIZE; ++i)\n",
        "    {\n",
        "        for (int j = 0; j < SIZE; ++j)\n",
        "        {\n",
        "            a[i][j] = i + j;\n",
        "            b[i][j] = i - j;\n",
        "        }\n",
        "    }\n",
        "\n",
        "    // Allocate memory on the device\n",
        "    cudaMalloc((void**)&dev_a, size);\n",
        "    cudaMalloc((void**)&dev_b, size);\n",
        "    cudaMalloc((void**)&dev_c, size);\n",
        "\n",
        "    // Copy input matrices from host to device memory\n",
        "    cudaMemcpy(dev_a, a, size, cudaMemcpyHostToDevice);\n",
        "    cudaMemcpy(dev_b, b, size, cudaMemcpyHostToDevice);\n",
        "\n",
        "    // Set grid and block sizes\n",
        "    dim3 dimGrid(SIZE / BLOCK_SIZE, SIZE / BLOCK_SIZE);\n",
        "    dim3 dimBlock(BLOCK_SIZE, BLOCK_SIZE);\n",
        "\n",
        "    // Start timer\n",
        "    struct timeval start, end;\n",
        "    gettimeofday(&start, NULL);\n",
        "\n",
        "    // Launch kernel\n",
        "    matrixMultiply<<<dimGrid, dimBlock>>>(dev_a, dev_b, dev_c, SIZE);\n",
        "\n",
        "    // Copy result matrix from device to host memory\n",
        "    cudaMemcpy(c, dev_c, size, cudaMemcpyDeviceToHost);\n",
        "\n",
        "    // Stop timer\n",
        "    gettimeofday(&end, NULL);\n",
        "    double elapsed_time = (end.tv_sec - start.tv_sec) + (end.tv_usec - start.tv_usec) / 1000000.0;\n",
        "\n",
        "    // Print the result matrix\n",
        "    printf(\"Result Matrix:\\n\");\n",
        "    for (int i = 0; i < SIZE; ++i)\n",
        "    {\n",
        "        for (int j = 0; j < SIZE; ++j)\n",
        "        {\n",
        "            printf(\"%d \", c[i][j]);\n",
        "        }\n",
        "        printf(\"\\n\");\n",
        "    }\n",
        "\n",
        "    // Print the elapsed time\n",
        "    printf(\"Elapsed Time: %.6f seconds\\n\", elapsed_time);\n",
        "\n",
        "    // Free device memory\n",
        "    cudaFree(dev_a);\n",
        "    cudaFree(dev_b);\n",
        "    cudaFree(dev_c);\n",
        "\n",
        "    return 0;\n",
        "}"
      ],
      "metadata": {
        "colab": {
          "base_uri": "https://localhost:8080/"
        },
        "id": "G4CV5oOGGzYk",
        "outputId": "12a3bf64-53f2-4384-d8a8-42a7b699c0f8"
      },
      "execution_count": 2,
      "outputs": [
        {
          "output_type": "stream",
          "name": "stdout",
          "text": [
            "Result Matrix:\n",
            "14 8 2 -4 \n",
            "20 10 0 -10 \n",
            "26 12 -2 -16 \n",
            "32 14 -4 -22 \n",
            "Elapsed Time: 0.000050 seconds\n",
            "\n"
          ]
        }
      ]
    },
    {
      "cell_type": "code",
      "source": [],
      "metadata": {
        "id": "wJUep7jzG_UV"
      },
      "execution_count": null,
      "outputs": []
    }
  ]
}